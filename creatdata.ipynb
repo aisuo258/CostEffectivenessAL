{
 "cells": [
  {
   "cell_type": "code",
   "execution_count": 80,
   "source": [
    "import csv\r\n",
    "csv.field_size_limit(500*1024*1024)\r\n",
    "f1=open(\"Mozilla_Firefox_Vulnerability_Data-master\\software_metrics.csv\",\"r\")\r\n",
    "f2=open(\"code_s.csv\",\"w\",encoding = \"utf8\", newline=\"\")\r\n",
    "cf1=csv.reader(f1, delimiter=',')\r\n",
    "cf2=csv.writer(f2)\r\n",
    "i=0\r\n",
    "for line in cf1:\r\n",
    "    #print(line[0])\r\n",
    "    if i>=1000:\r\n",
    "        break\r\n",
    "    if i==0:\r\n",
    "        i+=1\r\n",
    "        continue\r\n",
    "    cont=\"\"\r\n",
    "    with open(\"E:/Download/firefox/\"+line[0],'r',encoding = \"ISO-8859-1\") as f3:\r\n",
    "        tmps=f3.readlines()\r\n",
    "        for tmp in tmps:\r\n",
    "            tmp.strip(\"\\\"\")\r\n",
    "            cont+=tmp.replace(\"\\n\",\" \")\r\n",
    "    cf2.writerow([i,line[0],cont])\r\n",
    "    i+=1\r\n",
    "f1.close()\r\n",
    "f2.close()\r\n"
   ],
   "outputs": [],
   "metadata": {}
  },
  {
   "cell_type": "code",
   "execution_count": 49,
   "source": [],
   "outputs": [
    {
     "output_type": "stream",
     "name": "stdout",
     "text": [
      "gfx/cairo/cairo/src/cairo-d2d-private.h\n"
     ]
    }
   ],
   "metadata": {}
  },
  {
   "cell_type": "code",
   "execution_count": 78,
   "source": [
    "f1=open(\"Mozilla_Firefox_Vulnerability_Data-master/software_metrics.csv\",\"r\",encoding = \"ISO-8859-1\")\r\n",
    "f2=open(\"Mozilla_Firefox_Vulnerability_Data-master/vulnerabilities.csv\",\"r\",encoding = \"ISO-8859-1\")\r\n",
    "f3=open(\"metrics_s.csv\",'w',encoding = \"utf8\", newline=\"\") \r\n",
    "cf1=csv.reader(f1, delimiter=',')\r\n",
    "cf2=csv.reader(f2, delimiter=',')\r\n",
    "cf3=csv.writer(f3)\r\n",
    "vulner=[]\r\n",
    "for line in cf2:\r\n",
    "    vulner.append(line[2])\r\n",
    "vulner.pop(0)\r\n",
    "i=0\r\n",
    "for line in cf1:\r\n",
    "    if i>=1000:\r\n",
    "        break\r\n",
    "    i+=1\r\n",
    "    if line[0] == \"file\":\r\n",
    "        continue\r\n",
    "    #print(line[0])\r\n",
    "    if line[0] in vulner:\r\n",
    "        ok=1\r\n",
    "    else:\r\n",
    "        ok=0\r\n",
    "    tmp=line\r\n",
    "    tmp.append(ok)\r\n",
    "    cf3.writerow(tmp)\r\n",
    "\r\n",
    "f1.close()\r\n",
    "f2.close()\r\n",
    "f3.close() "
   ],
   "outputs": [],
   "metadata": {}
  },
  {
   "cell_type": "code",
   "execution_count": 79,
   "source": [
    "f=0\r\n",
    "with open(\"metrics_s.csv\",'r') as f3:\r\n",
    "    cf3=csv.reader(f3, delimiter=',')\r\n",
    "    for line in cf3:\r\n",
    "        if line[-1] == '1':\r\n",
    "            f+=1\r\n",
    "print(f)"
   ],
   "outputs": [
    {
     "output_type": "stream",
     "name": "stdout",
     "text": [
      "28\n"
     ]
    }
   ],
   "metadata": {}
  },
  {
   "cell_type": "code",
   "execution_count": 104,
   "source": [
    "import numpy as np\r\n",
    "a=[[1,2,3,4,5],[0,0,3,4,5]]\r\n",
    "a=np.array(a)\r\n",
    "print(a)"
   ],
   "outputs": [
    {
     "output_type": "stream",
     "name": "stdout",
     "text": [
      "[[1 2 3 4 5]\n",
      " [0 0 3 4 5]]\n"
     ]
    }
   ],
   "metadata": {}
  },
  {
   "cell_type": "code",
   "execution_count": 82,
   "source": [],
   "outputs": [
    {
     "output_type": "stream",
     "name": "stdout",
     "text": [
      "1\n",
      "2\n",
      "3\n",
      "4\n",
      "5\n",
      "6\n",
      "7\n",
      "8\n",
      "9\n"
     ]
    }
   ],
   "metadata": {}
  }
 ],
 "metadata": {
  "kernelspec": {
   "name": "python3",
   "display_name": "Python 3.7.0 64-bit ('base': conda)"
  },
  "language_info": {
   "codemirror_mode": {
    "name": "ipython",
    "version": 3
   },
   "file_extension": ".py",
   "mimetype": "text/x-python",
   "name": "python",
   "nbconvert_exporter": "python",
   "pygments_lexer": "ipython3",
   "version": "3.7.0"
  },
  "interpreter": {
   "hash": "be8996a6ea548883d18fa1ab5ce72fd2750987d33e2ab504ea688cb4b6f64d2f"
  }
 },
 "nbformat": 4,
 "nbformat_minor": 4
}